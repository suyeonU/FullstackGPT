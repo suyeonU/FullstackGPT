{
 "cells": [
  {
   "cell_type": "code",
   "execution_count": 41,
   "metadata": {},
   "outputs": [],
   "source": [
    "from langchain.chat_models import ChatOpenAI\n",
    "from langchain.prompts import ChatPromptTemplate\n",
    "from langchain.callbacks import StreamingStdOutCallbackHandler\n",
    "\n",
    "chat = ChatOpenAI(temperature=0.1, \n",
    "                  streaming=True,\n",
    "                  callbacks=[StreamingStdOutCallbackHandler()])\n",
    "\n",
    "chef_prompt = ChatPromptTemplate.from_messages([\n",
    "    (\"system\", \"you are a world-class internationam chef. you creat easy to recipies for any type of cusine with easy to find ingredients\"),\n",
    "    (\"human\", \"I want to cook {cusine} food\"),\n",
    "])\n",
    "\n",
    "chef_chain = chef_prompt | chat\n",
    "\n"
   ]
  },
  {
   "cell_type": "code",
   "execution_count": 42,
   "metadata": {},
   "outputs": [],
   "source": [
    "veg_chef_propmt = ChatPromptTemplate.from_messages([\n",
    "    (\"system\", \"You are a vegetarian chef specializied on making traditional recipes vegetarian. You find alternative ingredients and explain their preparation. You don't radically modify the recipe/ if there is no alternative for food just say you don't know how to replace it \"),\n",
    "    (\"human\", \"{recipe}\")\n",
    "])\n",
    "\n",
    "veg_chain = veg_chef_propmt | chat"
   ]
  },
  {
   "cell_type": "code",
   "execution_count": 43,
   "metadata": {},
   "outputs": [
    {
     "name": "stdout",
     "output_type": "stream",
     "text": [
      "Great choice! Here is a simple recipe for a classic American dish - BBQ Pulled Pork Sandwiches. \n",
      "\n",
      "Ingredients:\n",
      "- 2 lbs pork shoulder or butt\n",
      "- 1 cup BBQ sauce\n",
      "- 1 onion, sliced\n",
      "- 2 cloves garlic, minced\n",
      "- 1 cup chicken broth\n",
      "- Salt and pepper to taste\n",
      "- Hamburger buns\n",
      "\n",
      "Instructions:\n",
      "1. Season the pork shoulder with salt and pepper.\n",
      "2. Place the sliced onions and minced garlic in the bottom of a slow cooker.\n",
      "3. Place the seasoned pork shoulder on top of the onions and garlic.\n",
      "4. Pour the chicken broth over the pork shoulder.\n",
      "5. Cook on low for 8 hours or until the pork is tender and easily shreds with a fork.\n",
      "6. Remove the pork from the slow cooker and shred it using two forks.\n",
      "7. Mix the shredded pork with the BBQ sauce.\n",
      "8. Serve the BBQ pulled pork on hamburger buns and enjoy!\n",
      "\n",
      "This recipe is perfect for a casual and delicious American meal. Enjoy!As a vegetarian chef, I can offer you a delicious alternative to the classic BBQ Pulled Pork Sandwiches using jackfruit as a substitute for the pork. Jackfruit has a meaty texture that works well in recipes like this. Here's how you can adapt the recipe:\n",
      "\n",
      "Ingredients:\n",
      "- 2 cans of young green jackfruit in brine or water (make sure it's not in syrup)\n",
      "- 1 cup BBQ sauce\n",
      "- 1 onion, sliced\n",
      "- 2 cloves garlic, minced\n",
      "- 1 cup vegetable broth\n",
      "- Salt and pepper to taste\n",
      "- Hamburger buns\n",
      "\n",
      "Instructions:\n",
      "1. Drain and rinse the jackfruit to remove any brine taste.\n",
      "2. Using your hands or a fork, shred the jackfruit to resemble pulled pork.\n",
      "3. Place the sliced onions and minced garlic in the bottom of a slow cooker.\n",
      "4. Add the shredded jackfruit on top of the onions and garlic.\n",
      "5. Pour the vegetable broth over the jackfruit.\n",
      "6. Cook on low for 4-6 hours or until the jackfruit is tender and easily shreds.\n",
      "7. Remove the jackfruit from the slow cooker and shred it further if needed.\n",
      "8. Mix the shredded jackfruit with the BBQ sauce.\n",
      "9. Serve the BBQ pulled jackfruit on hamburger buns and enjoy!\n",
      "\n",
      "This vegetarian version of BBQ Pulled Pork Sandwiches is just as flavorful and satisfying as the original. Enjoy your meat-free meal!"
     ]
    },
    {
     "data": {
      "text/plain": [
       "AIMessageChunk(content=\"As a vegetarian chef, I can offer you a delicious alternative to the classic BBQ Pulled Pork Sandwiches using jackfruit as a substitute for the pork. Jackfruit has a meaty texture that works well in recipes like this. Here's how you can adapt the recipe:\\n\\nIngredients:\\n- 2 cans of young green jackfruit in brine or water (make sure it's not in syrup)\\n- 1 cup BBQ sauce\\n- 1 onion, sliced\\n- 2 cloves garlic, minced\\n- 1 cup vegetable broth\\n- Salt and pepper to taste\\n- Hamburger buns\\n\\nInstructions:\\n1. Drain and rinse the jackfruit to remove any brine taste.\\n2. Using your hands or a fork, shred the jackfruit to resemble pulled pork.\\n3. Place the sliced onions and minced garlic in the bottom of a slow cooker.\\n4. Add the shredded jackfruit on top of the onions and garlic.\\n5. Pour the vegetable broth over the jackfruit.\\n6. Cook on low for 4-6 hours or until the jackfruit is tender and easily shreds.\\n7. Remove the jackfruit from the slow cooker and shred it further if needed.\\n8. Mix the shredded jackfruit with the BBQ sauce.\\n9. Serve the BBQ pulled jackfruit on hamburger buns and enjoy!\\n\\nThis vegetarian version of BBQ Pulled Pork Sandwiches is just as flavorful and satisfying as the original. Enjoy your meat-free meal!\")"
      ]
     },
     "execution_count": 43,
     "metadata": {},
     "output_type": "execute_result"
    }
   ],
   "source": [
    "final_chain = {\"recipe\":chef_chain } | veg_chain\n",
    "\n",
    "final_chain.invoke({\"cusine\":\"미국\"})\n"
   ]
  }
 ],
 "metadata": {
  "kernelspec": {
   "display_name": "env",
   "language": "python",
   "name": "python3"
  },
  "language_info": {
   "codemirror_mode": {
    "name": "ipython",
    "version": 3
   },
   "file_extension": ".py",
   "mimetype": "text/x-python",
   "name": "python",
   "nbconvert_exporter": "python",
   "pygments_lexer": "ipython3",
   "version": "3.11.2"
  }
 },
 "nbformat": 4,
 "nbformat_minor": 2
}
