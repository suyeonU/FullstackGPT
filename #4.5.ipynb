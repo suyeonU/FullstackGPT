{
 "cells": [
  {
   "cell_type": "code",
   "execution_count": 1,
   "metadata": {},
   "outputs": [
    {
     "name": "stdout",
     "output_type": "stream",
     "text": [
      "\u001b[32;1m\u001b[1;3m[llm/start]\u001b[0m \u001b[1m[llm:ChatOpenAI] Entering LLM run with input:\n",
      "\u001b[0m{\n",
      "  \"prompts\": [\n",
      "    \"Human: How do you make italian gimbap?\"\n",
      "  ]\n",
      "}\n",
      "\u001b[36;1m\u001b[1;3m[llm/end]\u001b[0m \u001b[1m[llm:ChatOpenAI] [3ms] Exiting LLM run with output:\n",
      "\u001b[0m{\n",
      "  \"generations\": [\n",
      "    [\n",
      "      {\n",
      "        \"text\": \"Italian gimbap is a fusion dish that combines traditional Korean gimbap with Italian flavors. To make Italian gimbap, you will need the following ingredients:\\n\\n- Cooked sushi rice\\n- Nori sheets\\n- Italian deli meats (such as salami, prosciutto, or mortadella)\\n- Italian cheeses (such as mozzarella or provolone)\\n- Fresh vegetables (such as bell peppers, cucumbers, or avocado)\\n- Italian dressing or pesto sauce\\n\\nHere's how to make Italian gimbap:\\n\\n1. Lay a sheet of nori on a bamboo sushi mat, shiny side down.\\n2. Spread a thin layer of cooked sushi rice evenly over the nori, leaving a small border around the edges.\\n3. Arrange your choice of Italian deli meats, cheeses, and vegetables in a line across the center of the rice.\\n4. Drizzle Italian dressing or pesto sauce over the fillings.\\n5. Starting from the edge closest to you, carefully roll the gimbap using the bamboo mat to help shape it into a tight cylinder.\\n6. Use a sharp knife to slice the gimbap into bite-sized pieces.\\n7. Serve the Italian gimbap with extra Italian dressing or pesto sauce for dipping.\\n\\nEnjoy your delicious fusion of Korean and Italian flavors!\",\n",
      "        \"generation_info\": {\n",
      "          \"finish_reason\": \"stop\",\n",
      "          \"logprobs\": null\n",
      "        },\n",
      "        \"type\": \"ChatGeneration\",\n",
      "        \"message\": {\n",
      "          \"lc\": 1,\n",
      "          \"type\": \"constructor\",\n",
      "          \"id\": [\n",
      "            \"langchain\",\n",
      "            \"schema\",\n",
      "            \"messages\",\n",
      "            \"AIMessage\"\n",
      "          ],\n",
      "          \"kwargs\": {\n",
      "            \"content\": \"Italian gimbap is a fusion dish that combines traditional Korean gimbap with Italian flavors. To make Italian gimbap, you will need the following ingredients:\\n\\n- Cooked sushi rice\\n- Nori sheets\\n- Italian deli meats (such as salami, prosciutto, or mortadella)\\n- Italian cheeses (such as mozzarella or provolone)\\n- Fresh vegetables (such as bell peppers, cucumbers, or avocado)\\n- Italian dressing or pesto sauce\\n\\nHere's how to make Italian gimbap:\\n\\n1. Lay a sheet of nori on a bamboo sushi mat, shiny side down.\\n2. Spread a thin layer of cooked sushi rice evenly over the nori, leaving a small border around the edges.\\n3. Arrange your choice of Italian deli meats, cheeses, and vegetables in a line across the center of the rice.\\n4. Drizzle Italian dressing or pesto sauce over the fillings.\\n5. Starting from the edge closest to you, carefully roll the gimbap using the bamboo mat to help shape it into a tight cylinder.\\n6. Use a sharp knife to slice the gimbap into bite-sized pieces.\\n7. Serve the Italian gimbap with extra Italian dressing or pesto sauce for dipping.\\n\\nEnjoy your delicious fusion of Korean and Italian flavors!\",\n",
      "            \"response_metadata\": {\n",
      "              \"token_usage\": {\n",
      "                \"completion_tokens\": 269,\n",
      "                \"prompt_tokens\": 16,\n",
      "                \"total_tokens\": 285,\n",
      "                \"prompt_tokens_details\": {\n",
      "                  \"cached_tokens\": 0,\n",
      "                  \"audio_tokens\": 0\n",
      "                },\n",
      "                \"completion_tokens_details\": {\n",
      "                  \"reasoning_tokens\": 0,\n",
      "                  \"audio_tokens\": 0,\n",
      "                  \"accepted_prediction_tokens\": 0,\n",
      "                  \"rejected_prediction_tokens\": 0\n",
      "                }\n",
      "              },\n",
      "              \"model_name\": \"gpt-3.5-turbo\",\n",
      "              \"system_fingerprint\": null,\n",
      "              \"finish_reason\": \"stop\",\n",
      "              \"logprobs\": null\n",
      "            },\n",
      "            \"type\": \"ai\",\n",
      "            \"id\": \"run-c136efc7-35e7-427e-a091-dea5de58d73d-0\",\n",
      "            \"tool_calls\": [],\n",
      "            \"invalid_tool_calls\": []\n",
      "          }\n",
      "        }\n",
      "      }\n",
      "    ]\n",
      "  ],\n",
      "  \"llm_output\": null,\n",
      "  \"run\": null\n",
      "}\n"
     ]
    },
    {
     "name": "stderr",
     "output_type": "stream",
     "text": [
      "/var/folders/2t/gdl2w1gn33943fxr2ypg7b900000gn/T/ipykernel_3886/414118224.py:10: LangChainDeprecationWarning: The class `ChatOpenAI` was deprecated in LangChain 0.0.10 and will be removed in 1.0. An updated version of the class exists in the langchain-openai package and should be used instead. To use it run `pip install -U langchain-openai` and import as `from langchain_openai import ChatOpenAI`.\n",
      "  chat = ChatOpenAI(\n",
      "/var/folders/2t/gdl2w1gn33943fxr2ypg7b900000gn/T/ipykernel_3886/414118224.py:18: LangChainDeprecationWarning: The method `BaseChatModel.predict` was deprecated in langchain-core 0.1.7 and will be removed in 1.0. Use invoke instead.\n",
      "  chat.predict(\"How do you make italian gimbap?\")\n"
     ]
    },
    {
     "data": {
      "text/plain": [
       "\"Italian gimbap is a fusion dish that combines traditional Korean gimbap with Italian flavors. To make Italian gimbap, you will need the following ingredients:\\n\\n- Cooked sushi rice\\n- Nori sheets\\n- Italian deli meats (such as salami, prosciutto, or mortadella)\\n- Italian cheeses (such as mozzarella or provolone)\\n- Fresh vegetables (such as bell peppers, cucumbers, or avocado)\\n- Italian dressing or pesto sauce\\n\\nHere's how to make Italian gimbap:\\n\\n1. Lay a sheet of nori on a bamboo sushi mat, shiny side down.\\n2. Spread a thin layer of cooked sushi rice evenly over the nori, leaving a small border around the edges.\\n3. Arrange your choice of Italian deli meats, cheeses, and vegetables in a line across the center of the rice.\\n4. Drizzle Italian dressing or pesto sauce over the fillings.\\n5. Starting from the edge closest to you, carefully roll the gimbap using the bamboo mat to help shape it into a tight cylinder.\\n6. Use a sharp knife to slice the gimbap into bite-sized pieces.\\n7. Serve the Italian gimbap with extra Italian dressing or pesto sauce for dipping.\\n\\nEnjoy your delicious fusion of Korean and Italian flavors!\""
      ]
     },
     "execution_count": 1,
     "metadata": {},
     "output_type": "execute_result"
    }
   ],
   "source": [
    "from langchain.chat_models import ChatOpenAI\n",
    "from langchain.callbacks import StreamingStdOutCallbackHandler\n",
    "from langchain.globals import set_llm_cache, set_debug\n",
    "from langchain.cache import InMemoryCache, SQLiteCache\n",
    "\n",
    "set_llm_cache(SQLiteCache(\"cache.db\"))\n",
    "set_debug(True)\n",
    "\n",
    "\n",
    "chat = ChatOpenAI(\n",
    "    temperature=0.1,\n",
    "    # streaming=True,\n",
    "    # callbacks=[\n",
    "    #     StreamingStdOutCallbackHandler(),\n",
    "    # ],\n",
    ")\n",
    "\n",
    "chat.predict(\"How do you make italian gimbap?\")"
   ]
  },
  {
   "cell_type": "code",
   "execution_count": 2,
   "metadata": {},
   "outputs": [
    {
     "name": "stdout",
     "output_type": "stream",
     "text": [
      "\u001b[32;1m\u001b[1;3m[llm/start]\u001b[0m \u001b[1m[llm:ChatOpenAI] Entering LLM run with input:\n",
      "\u001b[0m{\n",
      "  \"prompts\": [\n",
      "    \"Human: How do you make italian gimbap?\"\n",
      "  ]\n",
      "}\n",
      "\u001b[36;1m\u001b[1;3m[llm/end]\u001b[0m \u001b[1m[llm:ChatOpenAI] [2.84s] Exiting LLM run with output:\n",
      "\u001b[0m{\n",
      "  \"generations\": [\n",
      "    [\n",
      "      {\n",
      "        \"text\": \"Italian gimbap is a fusion dish that combines traditional Korean gimbap with Italian flavors. To make Italian gimbap, you will need the following ingredients:\\n\\n- Cooked sushi rice\\n- Nori sheets\\n- Italian deli meats (such as salami, prosciutto, or mortadella)\\n- Italian cheeses (such as mozzarella or provolone)\\n- Fresh vegetables (such as bell peppers, cucumbers, or avocado)\\n- Italian dressing or pesto sauce\\n\\nTo make Italian gimbap, follow these steps:\\n\\n1. Lay a sheet of nori on a bamboo sushi mat, shiny side down.\\n2. Spread a thin layer of cooked sushi rice evenly over the nori sheet, leaving a small border around the edges.\\n3. Arrange your choice of Italian deli meats, cheeses, and vegetables in a line across the center of the rice.\\n4. Drizzle Italian dressing or pesto sauce over the fillings.\\n5. Carefully roll the gimbap using the bamboo mat, pressing gently to shape it into a tight cylinder.\\n6. Use a sharp knife to slice the gimbap into bite-sized pieces.\\n7. Serve the Italian gimbap with extra Italian dressing or pesto sauce for dipping.\\n\\nEnjoy your delicious fusion of Korean and Italian flavors!\",\n",
      "        \"generation_info\": {\n",
      "          \"finish_reason\": \"stop\",\n",
      "          \"logprobs\": null\n",
      "        },\n",
      "        \"type\": \"ChatGeneration\",\n",
      "        \"message\": {\n",
      "          \"lc\": 1,\n",
      "          \"type\": \"constructor\",\n",
      "          \"id\": [\n",
      "            \"langchain\",\n",
      "            \"schema\",\n",
      "            \"messages\",\n",
      "            \"AIMessage\"\n",
      "          ],\n",
      "          \"kwargs\": {\n",
      "            \"content\": \"Italian gimbap is a fusion dish that combines traditional Korean gimbap with Italian flavors. To make Italian gimbap, you will need the following ingredients:\\n\\n- Cooked sushi rice\\n- Nori sheets\\n- Italian deli meats (such as salami, prosciutto, or mortadella)\\n- Italian cheeses (such as mozzarella or provolone)\\n- Fresh vegetables (such as bell peppers, cucumbers, or avocado)\\n- Italian dressing or pesto sauce\\n\\nTo make Italian gimbap, follow these steps:\\n\\n1. Lay a sheet of nori on a bamboo sushi mat, shiny side down.\\n2. Spread a thin layer of cooked sushi rice evenly over the nori sheet, leaving a small border around the edges.\\n3. Arrange your choice of Italian deli meats, cheeses, and vegetables in a line across the center of the rice.\\n4. Drizzle Italian dressing or pesto sauce over the fillings.\\n5. Carefully roll the gimbap using the bamboo mat, pressing gently to shape it into a tight cylinder.\\n6. Use a sharp knife to slice the gimbap into bite-sized pieces.\\n7. Serve the Italian gimbap with extra Italian dressing or pesto sauce for dipping.\\n\\nEnjoy your delicious fusion of Korean and Italian flavors!\",\n",
      "            \"response_metadata\": {\n",
      "              \"token_usage\": {\n",
      "                \"completion_tokens\": 266,\n",
      "                \"prompt_tokens\": 16,\n",
      "                \"total_tokens\": 282,\n",
      "                \"prompt_tokens_details\": {\n",
      "                  \"cached_tokens\": 0,\n",
      "                  \"audio_tokens\": 0\n",
      "                },\n",
      "                \"completion_tokens_details\": {\n",
      "                  \"reasoning_tokens\": 0,\n",
      "                  \"audio_tokens\": 0,\n",
      "                  \"accepted_prediction_tokens\": 0,\n",
      "                  \"rejected_prediction_tokens\": 0\n",
      "                }\n",
      "              },\n",
      "              \"model_name\": \"gpt-3.5-turbo\",\n",
      "              \"system_fingerprint\": null,\n",
      "              \"finish_reason\": \"stop\",\n",
      "              \"logprobs\": null\n",
      "            },\n",
      "            \"type\": \"ai\",\n",
      "            \"id\": \"run-bb9c9cb1-d31e-4360-b92c-89c4bd9d56ce-0\",\n",
      "            \"tool_calls\": [],\n",
      "            \"invalid_tool_calls\": []\n",
      "          }\n",
      "        }\n",
      "      }\n",
      "    ]\n",
      "  ],\n",
      "  \"llm_output\": {\n",
      "    \"token_usage\": {\n",
      "      \"completion_tokens\": 266,\n",
      "      \"prompt_tokens\": 16,\n",
      "      \"total_tokens\": 282,\n",
      "      \"prompt_tokens_details\": {\n",
      "        \"cached_tokens\": 0,\n",
      "        \"audio_tokens\": 0\n",
      "      },\n",
      "      \"completion_tokens_details\": {\n",
      "        \"reasoning_tokens\": 0,\n",
      "        \"audio_tokens\": 0,\n",
      "        \"accepted_prediction_tokens\": 0,\n",
      "        \"rejected_prediction_tokens\": 0\n",
      "      }\n",
      "    },\n",
      "    \"model_name\": \"gpt-3.5-turbo\",\n",
      "    \"system_fingerprint\": null\n",
      "  },\n",
      "  \"run\": null\n",
      "}\n"
     ]
    },
    {
     "data": {
      "text/plain": [
       "'Italian gimbap is a fusion dish that combines traditional Korean gimbap with Italian flavors. To make Italian gimbap, you will need the following ingredients:\\n\\n- Cooked sushi rice\\n- Nori sheets\\n- Italian deli meats (such as salami, prosciutto, or mortadella)\\n- Italian cheeses (such as mozzarella or provolone)\\n- Fresh vegetables (such as bell peppers, cucumbers, or avocado)\\n- Italian dressing or pesto sauce\\n\\nTo make Italian gimbap, follow these steps:\\n\\n1. Lay a sheet of nori on a bamboo sushi mat, shiny side down.\\n2. Spread a thin layer of cooked sushi rice evenly over the nori sheet, leaving a small border around the edges.\\n3. Arrange your choice of Italian deli meats, cheeses, and vegetables in a line across the center of the rice.\\n4. Drizzle Italian dressing or pesto sauce over the fillings.\\n5. Carefully roll the gimbap using the bamboo mat, pressing gently to shape it into a tight cylinder.\\n6. Use a sharp knife to slice the gimbap into bite-sized pieces.\\n7. Serve the Italian gimbap with extra Italian dressing or pesto sauce for dipping.\\n\\nEnjoy your delicious fusion of Korean and Italian flavors!'"
      ]
     },
     "execution_count": 2,
     "metadata": {},
     "output_type": "execute_result"
    }
   ],
   "source": [
    "chat.predict(\"How do you make italian gimbap?\")"
   ]
  }
 ],
 "metadata": {
  "kernelspec": {
   "display_name": "langchain",
   "language": "python",
   "name": "python3"
  },
  "language_info": {
   "codemirror_mode": {
    "name": "ipython",
    "version": 3
   },
   "file_extension": ".py",
   "mimetype": "text/x-python",
   "name": "python",
   "nbconvert_exporter": "python",
   "pygments_lexer": "ipython3",
   "version": "3.11.9"
  }
 },
 "nbformat": 4,
 "nbformat_minor": 2
}
