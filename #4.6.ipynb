{
 "cells": [
  {
   "cell_type": "code",
   "execution_count": 2,
   "metadata": {},
   "outputs": [
    {
     "name": "stderr",
     "output_type": "stream",
     "text": [
      "/var/folders/2t/gdl2w1gn33943fxr2ypg7b900000gn/T/ipykernel_4139/1178121454.py:10: LangChainDeprecationWarning: The method `BaseChatModel.predict` was deprecated in langchain-core 0.1.7 and will be removed in 1.0. Use invoke instead.\n",
      "  a = chat.predict(\"What is the recipe for soju\")\n"
     ]
    },
    {
     "name": "stdout",
     "output_type": "stream",
     "text": [
      "Ingredients:\n",
      "- 1 cup of rice\n",
      "- 1 cup of water\n",
      "- 1 tablespoon of nuruk (fermentation starter)\n",
      "- 1 tablespoon of yeast\n",
      "\n",
      "Instructions:\n",
      "1. Rinse the rice under cold water until the water runs clear.\n",
      "2. In a large pot, combine the rice and water and bring to a boil. Reduce heat to low and simmer for 20 minutes, or until the rice is cooked.\n",
      "3. Remove the pot from heat and let it cool to room temperature.\n",
      "4. In a separate bowl, mix the nuruk and yeast with a little bit of warm water to form a paste.\n",
      "5. Add the nuruk and yeast mixture to the cooled rice and mix well.\n",
      "6. Cover the pot with a clean cloth and let it ferment in a warm, dark place for 3-4 days.\n",
      "7. After fermentation, strain the mixture through a cheesecloth to remove any solids.\n",
      "8. Transfer the liquid to a clean bottle and store in the refrigerator.\n",
      "9. Serve chilled and enjoy your homemade soju! \n",
      "\n",
      "Ingredients:\n",
      "- 3 1/2 cups all-purpose flour\n",
      "- 1 packet active dry yeast\n",
      "- 1 1/2 cups warm water\n",
      "- 1 tablespoon sugar\n",
      "- 1 teaspoon salt\n",
      "- 2 tablespoons olive oil\n",
      "\n",
      "Instructions:\n",
      "1. In a small bowl, combine the warm water, sugar, and yeast. Let it sit for about 5-10 minutes until it becomes frothy.\n",
      "2. In a large mixing bowl, combine the flour and salt. Make a well in the center and pour in the yeast mixture and olive oil.\n",
      "3. Mix everything together until a dough forms. Knead the dough on a floured surface for about 5-10 minutes until it becomes smooth and elastic.\n",
      "4. Place the dough in a greased bowl, cover with a clean towel, and let it rise in a warm place for about 1-2 hours or until it has doubled in size.\n",
      "5. Preheat the oven to 375°F (190°C). Punch down the dough and shape it into a loaf. Place it in a greased loaf pan.\n",
      "6. Cover the loaf with a clean towel and let it rise for another 30 minutes.\n",
      "7. Bake the bread in the preheated oven for about 30-35 minutes or until it is golden brown and sounds hollow when tapped on the bottom.\n",
      "8. Remove the bread from the oven and let it cool before slicing and serving. Enjoy your freshly baked bread! \n",
      "\n",
      "Tokens Used: 544\n",
      "\tPrompt Tokens: 27\n",
      "\tCompletion Tokens: 517\n",
      "Successful Requests: 2\n",
      "Total Cost (USD): $0.0010745\n"
     ]
    }
   ],
   "source": [
    "from langchain.chat_models import ChatOpenAI\n",
    "from langchain.callbacks import get_openai_callback\n",
    "\n",
    "chat = ChatOpenAI(\n",
    "    temperature=0.1,\n",
    ")\n",
    "\n",
    "\n",
    "with get_openai_callback() as usage:\n",
    "    a = chat.predict(\"What is the recipe for soju\")\n",
    "    b = chat.predict(\"What is the recipe for bread\")\n",
    "    print(a, \"\\n\")\n",
    "    print(b, \"\\n\")\n",
    "    print(usage)"
   ]
  }
 ],
 "metadata": {
  "kernelspec": {
   "display_name": "langchain",
   "language": "python",
   "name": "python3"
  },
  "language_info": {
   "codemirror_mode": {
    "name": "ipython",
    "version": 3
   },
   "file_extension": ".py",
   "mimetype": "text/x-python",
   "name": "python",
   "nbconvert_exporter": "python",
   "pygments_lexer": "ipython3",
   "version": "3.11.9"
  }
 },
 "nbformat": 4,
 "nbformat_minor": 2
}
